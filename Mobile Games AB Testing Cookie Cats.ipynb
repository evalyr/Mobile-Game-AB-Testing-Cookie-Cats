{
  "cells": [
    {
      "cell_type": "markdown",
      "source": [
        "#AB Testing Application Project on DataCamp"
      ],
      "metadata": {
        "id": "lM315th1rl8o"
      }
    },
    {
      "metadata": {
        "dc": {
          "key": "3"
        },
        "deletable": false,
        "editable": false,
        "run_control": {
          "frozen": true
        },
        "tags": [
          "context"
        ],
        "id": "Z7rd9wzcq2jO"
      },
      "cell_type": "markdown",
      "source": [
        "## 1. Of cats and cookies\n",
        "<p><a href=\"https://www.facebook.com/cookiecatsgame\">Cookie Cats</a> is a hugely popular mobile puzzle game developed by <a href=\"http://tactile.dk\">Tactile Entertainment</a>. It's a classic \"connect three\"-style puzzle game where the player must connect tiles of the same color to clear the board and win the level. It also features singing cats.\n",
        "<p><img src=\"https://drive.google.com/uc?id=11tKXKc_Tf5MuMWuLIQKBritVvMSE0la7\" width=\"700\" height=\"350\" alt></p>\n",
        "<p>As players progress through the levels of the game, they will occasionally encounter gates that force them to wait a non-trivial amount of time or make an in-app purchase to progress. In addition to driving in-app purchases, these gates serve the important purpose of giving players an enforced break from playing the game, hopefully resulting in that the player's enjoyment of the game being increased and prolonged.</p>\n",
        "<p><img src=\"https://drive.google.com/uc?id=11moTX6iJyv_r02vMCxKRZ2LMhwNomPqc\" alt></p>\n",
        "<p>But where should the gates be placed? Initially the first gate was placed at level 30, but in this notebook we're going to analyze an AB-test where we moved the first gate in Cookie Cats from level 30 to level 40. In particular, we will look at the impact on player retention. But before we get to that, a key step before undertaking any analysis is understanding the data. So let's load it in and take a look!</p>\n",
        "\n",
        "\n",
        "\n"
      ]
    },
    {
      "metadata": {
        "dc": {
          "key": "3"
        },
        "tags": [
          "sample_code"
        ],
        "trusted": true,
        "id": "IHl5PvWYq2jU",
        "outputId": "bf11474b-4a50-401d-f8aa-dfd315532f0b"
      },
      "cell_type": "code",
      "source": [
        "# Import libraries\n",
        "import pandas as pd\n",
        "import matplotlib.pyplot as plt\n",
        "\n",
        "# Read dataset\n",
        "df = pd.read_csv('datasets/cookie_cats.csv')\n",
        "df.head()"
      ],
      "execution_count": null,
      "outputs": [
        {
          "output_type": "execute_result",
          "execution_count": 93,
          "data": {
            "text/plain": "   userid  version  sum_gamerounds  retention_1  retention_7\n0     116  gate_30               3        False        False\n1     337  gate_30              38         True        False\n2     377  gate_40             165         True        False\n3     483  gate_40               1        False        False\n4     488  gate_40             179         True         True",
            "text/html": "<div>\n<style scoped>\n    .dataframe tbody tr th:only-of-type {\n        vertical-align: middle;\n    }\n\n    .dataframe tbody tr th {\n        vertical-align: top;\n    }\n\n    .dataframe thead th {\n        text-align: right;\n    }\n</style>\n<table border=\"1\" class=\"dataframe\">\n  <thead>\n    <tr style=\"text-align: right;\">\n      <th></th>\n      <th>userid</th>\n      <th>version</th>\n      <th>sum_gamerounds</th>\n      <th>retention_1</th>\n      <th>retention_7</th>\n    </tr>\n  </thead>\n  <tbody>\n    <tr>\n      <th>0</th>\n      <td>116</td>\n      <td>gate_30</td>\n      <td>3</td>\n      <td>False</td>\n      <td>False</td>\n    </tr>\n    <tr>\n      <th>1</th>\n      <td>337</td>\n      <td>gate_30</td>\n      <td>38</td>\n      <td>True</td>\n      <td>False</td>\n    </tr>\n    <tr>\n      <th>2</th>\n      <td>377</td>\n      <td>gate_40</td>\n      <td>165</td>\n      <td>True</td>\n      <td>False</td>\n    </tr>\n    <tr>\n      <th>3</th>\n      <td>483</td>\n      <td>gate_40</td>\n      <td>1</td>\n      <td>False</td>\n      <td>False</td>\n    </tr>\n    <tr>\n      <th>4</th>\n      <td>488</td>\n      <td>gate_40</td>\n      <td>179</td>\n      <td>True</td>\n      <td>True</td>\n    </tr>\n  </tbody>\n</table>\n</div>"
          },
          "metadata": {}
        }
      ]
    },
    {
      "metadata": {
        "dc": {
          "key": "10"
        },
        "deletable": false,
        "editable": false,
        "run_control": {
          "frozen": true
        },
        "tags": [
          "context"
        ],
        "id": "43yLnareq2jW"
      },
      "cell_type": "markdown",
      "source": [
        "## 2. The AB-test data\n",
        "<p>The data we have is from 90,189 players that installed the game while the AB-test was running. The variables are:</p>\n",
        "<ul>\n",
        "<li><code>userid</code> - a unique number that identifies each player.</li>\n",
        "<li><code>version</code> - whether the player was put in the control group (<code>gate_30</code> - a gate at level 30) or the group with the moved gate (<code>gate_40</code> - a gate at level 40).</li>\n",
        "<li><code>sum_gamerounds</code> - the number of game rounds played by the player during the first 14 days after installation.</li>\n",
        "<li><code>retention_1</code> - did the player come back and play <strong>1 day</strong> after installing?</li>\n",
        "<li><code>retention_7</code> - did the player come back and play <strong>7 days</strong> after installing?</li>\n",
        "</ul>\n",
        "<p>When a player installed the game, he or she was randomly assigned to either <code>gate_30</code> or <code>gate_40</code>. As a sanity check, let's see if there are roughly the same number of players in each AB group. </p>"
      ]
    },
    {
      "metadata": {
        "dc": {
          "key": "10"
        },
        "tags": [
          "sample_code"
        ],
        "trusted": true,
        "id": "zQ_AjT_hq2jX",
        "outputId": "d2fec564-dc93-4932-8654-4e61c1dcd754"
      },
      "cell_type": "code",
      "source": [
        "# Count the number of players in each AB group.\n",
        "df.groupby('version')['userid'].count()"
      ],
      "execution_count": null,
      "outputs": [
        {
          "output_type": "execute_result",
          "execution_count": 95,
          "data": {
            "text/plain": "version\ngate_30    44700\ngate_40    45489\nName: userid, dtype: int64"
          },
          "metadata": {}
        }
      ]
    },
    {
      "metadata": {
        "dc": {
          "key": "17"
        },
        "deletable": false,
        "editable": false,
        "run_control": {
          "frozen": true
        },
        "tags": [
          "context"
        ],
        "id": "NlY1uQVnq2jX"
      },
      "cell_type": "markdown",
      "source": [
        "## 3. The distribution of game rounds\n",
        "<p><img src=\"https://drive.google.com/uc?id=1sQMU64JfJz8yFFsgxNW3zhp_CM9CFNHD\" style=\"width:200px; float:left\"> </p>\n",
        "<p>It looks like there is roughly the same number of players in each group, nice!</p>\n",
        "<p>The focus of this analysis will be on how the gate placement affects player retention, but just for fun: Let's plot the distribution of the number of game rounds players played during their first week playing the game.</p>\n",
        "\n"
      ]
    },
    {
      "metadata": {
        "dc": {
          "key": "17"
        },
        "tags": [
          "sample_code"
        ],
        "trusted": true,
        "id": "RP36dMjZq2jY",
        "outputId": "8e3a7cf0-74b4-4236-c352-e59bfd4bfda0"
      },
      "cell_type": "code",
      "source": [
        "# This command makes plots appear in the notebook\n",
        "%matplotlib inline\n",
        "\n",
        "# Count the number of players for each number of gamerounds \n",
        "plot_df = df.groupby('sum_gamerounds')['userid'].count()\n",
        "\n",
        "# Plot the distribution of players that played 0 to 100 game rounds\n",
        "ax = plot_df.head(n=100).plot(x='sum_gamerounds', y='userid', kind='hist')\n",
        "ax.set_xlabel(\"Game Rounds\")\n",
        "ax.set_ylabel(\"User Count\")"
      ],
      "execution_count": null,
      "outputs": [
        {
          "output_type": "execute_result",
          "execution_count": 97,
          "data": {
            "text/plain": "Text(0,0.5,'User Count')"
          },
          "metadata": {}
        },
        {
          "output_type": "display_data",
          "data": {
            "text/plain": "<matplotlib.figure.Figure at 0x7fdf2c9533c8>",
            "image/png": "[encoded data removed]"
          },
          "metadata": {
            "needs_background": "light"
          }
        }
      ]
    },
    {
      "metadata": {
        "dc": {
          "key": "24"
        },
        "deletable": false,
        "editable": false,
        "run_control": {
          "frozen": true
        },
        "tags": [
          "context"
        ],
        "id": "RH-RrPZHq2jZ"
      },
      "cell_type": "markdown",
      "source": [
        "## 4. Overall 1-day retention\n",
        "<p>In the plot above we can see that some players install the game but then never play it (0 game rounds), some players just play a couple of game rounds in their first week, and some get really hooked!</p>\n",
        "<p>What we want is for players to like the game and to get hooked. A common metric in the video gaming industry for how fun and engaging a game is <em>1-day retention</em>: The percentage of players that comes back and plays the game <em>one day</em> after they have installed it.  The higher 1-day retention is, the easier it is to retain players and build a large player base. </p>\n",
        "<p>As a first step, let's look at what 1-day retention is overall.</p>"
      ]
    },
    {
      "metadata": {
        "dc": {
          "key": "24"
        },
        "tags": [
          "sample_code"
        ],
        "trusted": true,
        "id": "00nWRZIsq2jZ",
        "outputId": "b7c65742-9a3b-4706-c54a-8eaaf1b68d07"
      },
      "cell_type": "code",
      "source": [
        "# The % of users that came back the day after they installed\n",
        "df['retention_1'].sum()/df['retention_1'].count()"
      ],
      "execution_count": null,
      "outputs": [
        {
          "output_type": "execute_result",
          "execution_count": 99,
          "data": {
            "text/plain": "0.4452095044850259"
          },
          "metadata": {}
        }
      ]
    },
    {
      "metadata": {
        "dc": {
          "key": "31"
        },
        "deletable": false,
        "editable": false,
        "run_control": {
          "frozen": true
        },
        "tags": [
          "context"
        ],
        "id": "KwqFQ6Ipq2ja"
      },
      "cell_type": "markdown",
      "source": [
        "## 5. 1-day retention by AB-group\n",
        "<p><img src=\"https://drive.google.com/uc?id=1iRXD14tebvbv7pQSD-B-wp23vMocrXSC\" style=\"width:200px; float:right\"> </p>\n",
        "<p>So, a little less than half of the players come back one day after installing the game. Now that we have a benchmark, let's look at how 1-day retention differs between the two AB-groups.</p>"
      ]
    },
    {
      "metadata": {
        "dc": {
          "key": "31"
        },
        "tags": [
          "sample_code"
        ],
        "trusted": true,
        "id": "jbLS3O1Dq2jb",
        "outputId": "cd49c04c-3630-4ea1-be74-e6664678c5ad"
      },
      "cell_type": "code",
      "source": [
        "# Calculate 1-day retention for each AB-group\n",
        "df.groupby('version')['retention_1'].sum()/df.groupby('version')['retention_1'].count()"
      ],
      "execution_count": null,
      "outputs": [
        {
          "output_type": "execute_result",
          "execution_count": 101,
          "data": {
            "text/plain": "version\ngate_30    0.448188\ngate_40    0.442283\nName: retention_1, dtype: float64"
          },
          "metadata": {}
        }
      ]
    },
    {
      "metadata": {
        "dc": {
          "key": "38"
        },
        "deletable": false,
        "editable": false,
        "run_control": {
          "frozen": true
        },
        "tags": [
          "context"
        ],
        "id": "Wqbd2y-Eq2jb"
      },
      "cell_type": "markdown",
      "source": [
        "## 6. Should we be confident in the difference?\n",
        "<p>It appears that there was a slight decrease in 1-day retention when the gate was moved to level 40 (44.2%) compared to the control when it was at level 30 (44.8%). It's a small change, but even small changes in retention can have a large impact. But while we are certain of the difference in the data, how certain should we be that a gate at level 40 will be worse in the future?</p>\n",
        "<p>There are a couple of ways we can get at the certainty of these retention numbers. Here we will use bootstrapping: We will repeatedly re-sample our dataset (with replacement) and calculate 1-day retention for those samples. The variation in 1-day retention will give us an indication of how uncertain the retention numbers are.</p>"
      ]
    },
    {
      "metadata": {
        "dc": {
          "key": "38"
        },
        "tags": [
          "sample_code"
        ],
        "trusted": true,
        "id": "L-oElf5jq2jb",
        "outputId": "09b2b836-2888-4b3d-d50b-1210feb4dd31"
      },
      "cell_type": "code",
      "source": [
        "# Create an list with bootstrapped means for each AB-group\n",
        "boot_1d = []\n",
        "for i in range(500):\n",
        "    boot_mean = df.sample(frac=1, replace=True).groupby('version')['retention_1'].mean()\n",
        "    boot_1d.append(boot_mean)\n",
        "    \n",
        "# Transforming the list to a DataFrame\n",
        "boot_1d = pd.DataFrame(boot_1d)\n",
        "    \n",
        "# A Kernel Density Estimate plot of the bootstrap distributions\n",
        "boot_1d.plot(kind='kde')"
      ],
      "execution_count": null,
      "outputs": [
        {
          "output_type": "execute_result",
          "execution_count": 103,
          "data": {
            "text/plain": "<matplotlib.axes._subplots.AxesSubplot at 0x7fdf4376c240>"
          },
          "metadata": {}
        },
        {
          "output_type": "display_data",
          "data": {
            "text/plain": "<matplotlib.figure.Figure at 0x7fdf065056a0>",
            "image/png": "[encoded data removed]"
          },
          "metadata": {
            "needs_background": "light"
          }
        }
      ]
    },
    {
      "metadata": {
        "dc": {
          "key": "46"
        },
        "deletable": false,
        "editable": false,
        "run_control": {
          "frozen": true
        },
        "tags": [
          "context"
        ],
        "id": "jSkVeGvFq2jc"
      },
      "cell_type": "markdown",
      "source": [
        "## 7. Zooming in on the difference\n",
        "<p>These two distributions above represent the bootstrap uncertainty over what the underlying 1-day retention could be for the two AB-groups. Just eyeballing this plot, we can see that there seems to be some evidence of a difference, albeit small. Let's zoom in on the difference in 1-day retention</p>\n",
        "<p>(<em>Note that in this notebook we have limited the number of bootstrap replication to 500 to keep the calculations quick. In \"production\" we would likely increase this to a much larger number, say, 10 000.</em>)</p>"
      ]
    },
    {
      "metadata": {
        "dc": {
          "key": "46"
        },
        "tags": [
          "sample_code"
        ],
        "trusted": true,
        "id": "drlwt02vq2jc",
        "outputId": "f4027c7b-8c35-4fdd-b89a-3dd0f22fd6e4"
      },
      "cell_type": "code",
      "source": [
        "# Add a column with the % difference between the two AB-groups\n",
        "boot_1d['diff'] = (boot_1d['gate_30'] - boot_1d['gate_40']) /  boot_1d['gate_40'] * 100\n",
        "\n",
        "# Plot the bootstrap % difference\n",
        "ax = boot_1d['diff'].plot(kind='kde')\n",
        "ax.set_xlabel(\"% difference in means\")"
      ],
      "execution_count": null,
      "outputs": [
        {
          "output_type": "execute_result",
          "execution_count": 105,
          "data": {
            "text/plain": "Text(0.5,0,'% difference in means')"
          },
          "metadata": {}
        },
        {
          "output_type": "display_data",
          "data": {
            "text/plain": "<matplotlib.figure.Figure at 0x7fdf06505710>",
            "image/png": "[encoded data removed]"
          },
          "metadata": {
            "needs_background": "light"
          }
        }
      ]
    },
    {
      "metadata": {
        "dc": {
          "key": "53"
        },
        "deletable": false,
        "editable": false,
        "run_control": {
          "frozen": true
        },
        "tags": [
          "context"
        ],
        "id": "7r-FKVDrq2jd"
      },
      "cell_type": "markdown",
      "source": [
        "## 8. The probability of a difference\n",
        "<p><img src=\"https://drive.google.com/uc?id=1omOPNYrU18glWnmjc_ez-pKnpF2lqoZs\" style=\"width:200px; float:left\"> </p>\n",
        "<p>From this chart, we can see that the most likely % difference is around 1% - 2%, and that most of the distribution is above 0%, in favor of a gate at level 30. But what is the <em>probability</em> that the difference is above 0%? Let's calculate that as well.</p>"
      ]
    },
    {
      "metadata": {
        "dc": {
          "key": "53"
        },
        "tags": [
          "sample_code"
        ],
        "trusted": true,
        "id": "oQmbKZvzq2jd",
        "outputId": "fa683b64-58ec-4f80-e1d4-4fa7feaa3f70"
      },
      "cell_type": "code",
      "source": [
        "# Calculate the probability that 1-day retention is greater when the gate is at level 30\n",
        "prob = (boot_1d['diff'] > 0 ).sum()/len(boot_1d['diff'])\n",
        "\n",
        "# Pretty printing the probability\n",
        "'{:.1%}'.format(prob)"
      ],
      "execution_count": null,
      "outputs": [
        {
          "output_type": "execute_result",
          "execution_count": 107,
          "data": {
            "text/plain": "'97.0%'"
          },
          "metadata": {}
        }
      ]
    },
    {
      "metadata": {
        "dc": {
          "key": "60"
        },
        "deletable": false,
        "editable": false,
        "run_control": {
          "frozen": true
        },
        "tags": [
          "context"
        ],
        "id": "szlgYSz7q2jd"
      },
      "cell_type": "markdown",
      "source": [
        "## 9. 7-day retention by AB-group\n",
        "<p>The bootstrap analysis tells us that there is a high probability that 1-day retention is better when the gate is at level 30. However, since players have only been playing the game for one day, it is likely that most players haven't reached level 30 yet. That is, many players won't have been affected by the gate, even if it's as early as level 30. </p>\n",
        "<p>But after having played for a week, more players should have reached level 40, and therefore it makes sense to also look at 7-day retention. That is: What percentage of the people that installed the game also showed up a week later to play the game again.</p>\n",
        "<p>Let's start by calculating 7-day retention for the two AB-groups.</p>"
      ]
    },
    {
      "metadata": {
        "dc": {
          "key": "60"
        },
        "tags": [
          "sample_code"
        ],
        "trusted": true,
        "id": "ao2rJ8zmq2je",
        "outputId": "f2821ea3-3c0d-4255-f8bd-10e22c3540a1"
      },
      "cell_type": "code",
      "source": [
        "# Calculate 7-day retention for both AB-groups\n",
        "df.groupby('version')['retention_7'].sum()/df.groupby('version')['retention_7'].count()"
      ],
      "execution_count": null,
      "outputs": [
        {
          "output_type": "execute_result",
          "execution_count": 109,
          "data": {
            "text/plain": "version\ngate_30    0.190201\ngate_40    0.182000\nName: retention_7, dtype: float64"
          },
          "metadata": {}
        }
      ]
    },
    {
      "metadata": {
        "dc": {
          "key": "67"
        },
        "deletable": false,
        "editable": false,
        "run_control": {
          "frozen": true
        },
        "tags": [
          "context"
        ],
        "id": "AEe4_iQdq2je"
      },
      "cell_type": "markdown",
      "source": [
        "## 10. Bootstrapping the difference again\n",
        "<p>Like with 1-day retention, we see that 7-day retention is slightly lower (18.2%) when the gate is at level 40 than when the gate is at level 30 (19.0%). This difference is also larger than for 1-day retention, presumably because more players have had time to hit the first gate. We also see that the <em>overall</em> 7-day retention is lower than the <em>overall</em> 1-day retention; fewer people play a game a week after installing than a day after installing.</p>\n",
        "<p>But as before, let's use bootstrap analysis to figure out how certain we should be of the difference between the AB-groups.</p>"
      ]
    },
    {
      "metadata": {
        "dc": {
          "key": "67"
        },
        "tags": [
          "sample_code"
        ],
        "trusted": true,
        "id": "lbvDT3LOq2jf",
        "outputId": "433d1a10-8d79-4aee-9d0a-b8555e00a067"
      },
      "cell_type": "code",
      "source": [
        "# Create a list with bootstrapped means for each AB-group\n",
        "boot_7d = []\n",
        "for i in range(500):\n",
        "    boot_mean = df.sample(frac=1, replace=True).groupby('version')['retention_7'].mean()\n",
        "    boot_7d.append(boot_mean)\n",
        "    \n",
        "# Transform the list to a DataFrame\n",
        "boot_7d = pd.DataFrame(boot_7d)\n",
        "\n",
        "# Add a column with the % difference between the two AB-groups\n",
        "boot_7d['diff'] = (boot_7d['gate_30'] - boot_7d['gate_40']) /  boot_7d['gate_40'] * 100\n",
        "\n",
        "# Plot the bootstrap % difference\n",
        "ax = boot_7d['diff'].plot(kind='kde')\n",
        "ax.set_xlabel(\"% difference in means\")\n",
        "\n",
        "# Calculate the probability that 7-day retention is greater when the gate is at level 30\n",
        "prob = (boot_7d['diff'] > 0 ).sum()/len(boot_7d['diff'])\n",
        "\n",
        "# Pretty printing the probability\n",
        "'{:.1%}'.format(prob)"
      ],
      "execution_count": null,
      "outputs": [
        {
          "output_type": "execute_result",
          "execution_count": 111,
          "data": {
            "text/plain": "'99.8%'"
          },
          "metadata": {}
        },
        {
          "output_type": "display_data",
          "data": {
            "text/plain": "<matplotlib.figure.Figure at 0x7fdf06506e80>",
            "image/png": "[encoded data removed]"
          },
          "metadata": {
            "needs_background": "light"
          }
        }
      ]
    },
    {
      "metadata": {
        "dc": {
          "key": "74"
        },
        "deletable": false,
        "editable": false,
        "run_control": {
          "frozen": true
        },
        "tags": [
          "context"
        ],
        "id": "kW0hkC61q2jf"
      },
      "cell_type": "markdown",
      "source": [
        "## 11.  The conclusion\n",
        "<p>The bootstrap result tells us that there is strong evidence that 7-day retention is higher when the gate is at level 30 than when it is at level 40. The conclusion is: If we want to keep retention high — both 1-day and 7-day retention — we should <strong>not</strong> move the gate from level 30 to level 40. There are, of course, other metrics we could look at, like the number of game rounds played or how much in-game purchases are made by the two AB-groups. But retention <em>is</em> one of the most important metrics. If we don't retain our player base, it doesn't matter how much money they spend in-game.</p>\n",
        "<p><img src=\"https://drive.google.com/uc?id=1iESA_pLhnI3lyecrJ6adGPfpMdRB48ir\" style=\"width:100px; float:center\"> </p>\n",
        "<p>So, why is retention higher when the gate is positioned earlier? One could expect the opposite: The later the obstacle, the longer people are going to engage with the game. But this is not what the data tells us. The theory of <em>hedonic adaptation</em> can give one explanation for this. In short, hedonic adaptation is the tendency for people to get less and less enjoyment out of a fun activity over time if that activity is undertaken continuously. By forcing players to take a break when they reach a gate, their enjoyment of the game is prolonged. But when the gate is moved to level 40, fewer players make it far enough, and they are more likely to quit the game because they simply got bored of it. </p>"
      ]
    }
  ],
  "metadata": {
    "kernelspec": {
      "name": "python3",
      "display_name": "Python 3",
      "language": "python"
    },
    "language_info": {
      "name": "python",
      "version": "3.6.7",
      "mimetype": "text/x-python",
      "codemirror_mode": {
        "name": "ipython",
        "version": 3
      },
      "pygments_lexer": "ipython3",
      "nbconvert_exporter": "python",
      "file_extension": ".py"
    },
    "colab": {
      "provenance": []
    }
  },
  "nbformat": 4,
  "nbformat_minor": 0
}